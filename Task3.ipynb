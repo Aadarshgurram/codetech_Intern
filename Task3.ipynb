{
 "cells": [
  {
   "cell_type": "code",
   "execution_count": 7,
   "id": "e48d2570-7033-421a-b5b2-e0045220e5fa",
   "metadata": {},
   "outputs": [
    {
     "name": "stdout",
     "output_type": "stream",
     "text": [
      "✅ intents.json file created successfully with extensive interactions!\n"
     ]
    }
   ],
   "source": [
    "import json\n",
    "\n",
    "intents_data = {\n",
    "    \"intents\": [\n",
    "        {\"tag\": \"greeting\", \"patterns\": [\"Hi\", \"Hey\", \"Hello\", \"Good morning\", \"Good evening\", \"How's it going?\"],\n",
    "         \"responses\": [\"Hello! How can I help?\", \"Hey there! What's up?\", \"Hi! What do you need assistance with?\"]},\n",
    "        {\"tag\": \"goodbye\", \"patterns\": [\"Bye\", \"See you later\", \"Goodbye\", \"Catch you later\", \"Take care\"],\n",
    "         \"responses\": [\"Goodbye! Have a great day!\", \"See you soon!\", \"Take care and stay safe!\"]},\n",
    "        {\"tag\": \"thanks\", \"patterns\": [\"Thanks\", \"Thank you\", \"Much appreciated\", \"Thanks a lot!\"],\n",
    "         \"responses\": [\"You're welcome!\", \"Glad to help!\", \"No problem!\"]},\n",
    "        {\"tag\": \"funny\", \"patterns\": [\"Tell me a joke\", \"Make me laugh\", \"Any funny stories?\"],\n",
    "         \"responses\": [\"Why don’t skeletons fight each other? They don’t have the guts!\", \"I told my wife she should embrace her mistakes. She gave me a hug!\"]},\n",
    "        {\"tag\": \"weather\", \"patterns\": [\"What's the weather like?\", \"Will it rain today?\", \"How's the weather?\"],\n",
    "         \"responses\": [\"Check your local forecast for the best accuracy!\", \"It depends on your location. Try a weather app!\"]},\n",
    "        {\"tag\": \"sports\", \"patterns\": [\"Who won the game last night?\", \"Tell me about football\", \"Latest sports news?\"],\n",
    "         \"responses\": [\"You can check ESPN or a sports app for live updates!\", \"Football is an amazing game! Do you have a favorite team?\"]},\n",
    "        {\"tag\": \"movies\", \"patterns\": [\"Recommend a movie\", \"Best movie to watch?\", \"Any good movies?\"],\n",
    "         \"responses\": [\"Try watching Inception if you like thrillers!\", \"For comedy, The Hangover is great!\"]},\n",
    "        {\"tag\": \"books\", \"patterns\": [\"Suggest a book\", \"Good books to read?\", \"Any book recommendations?\"],\n",
    "         \"responses\": [\"The Alchemist is a must-read for motivation!\", \"If you like sci-fi, try Dune!\"]},\n",
    "        {\"tag\": \"food\", \"patterns\": [\"What should I eat?\", \"Best dish to try?\", \"Any food suggestions?\"],\n",
    "         \"responses\": [\"How about some pizza? You can never go wrong with that!\", \"Try a new recipe today!\"]},\n",
    "        {\"tag\": \"motivation\", \"patterns\": [\"Give me motivation\", \"Any motivational quotes?\", \"Inspire me!\"],\n",
    "         \"responses\": [\"Success starts with self-discipline!\", \"Dream big, work hard, and stay focused!\"]},\n",
    "        {\"tag\": \"technology\", \"patterns\": [\"Tell me about AI\", \"What is blockchain?\", \"How does machine learning work?\"],\n",
    "         \"responses\": [\"AI is the future! It allows machines to think like humans.\", \"Blockchain is a decentralized ledger system!\"]},\n",
    "        {\"tag\": \"gaming\", \"patterns\": [\"Suggest a game\", \"Best game to play?\", \"Latest gaming news?\"],\n",
    "         \"responses\": [\"If you like adventure, try The Witcher 3!\", \"For online fun, Fortnite is great!\"]},\n",
    "        {\"tag\": \"health\", \"patterns\": [\"How to stay fit?\", \"Best exercise?\", \"How to lose weight?\"],\n",
    "         \"responses\": [\"Eat healthy, exercise daily, and stay hydrated!\", \"Try yoga for both body and mind!\"]},\n",
    "        {\"tag\": \"finance\", \"patterns\": [\"How to save money?\", \"Best investment tips?\", \"Tell me about stocks\"],\n",
    "         \"responses\": [\"Start by budgeting your expenses!\", \"Diversify your investments for lower risk!\"]}\n",
    "    ]\n",
    "}\n",
    "\n",
    "# Save as a JSON file\n",
    "with open(\"intents.json\", \"w\") as file:\n",
    "    json.dump(intents_data, file, indent=4)\n",
    "\n",
    "print(\"✅ intents.json file created successfully with extensive interactions!\")\n"
   ]
  },
  {
   "cell_type": "code",
   "execution_count": null,
   "id": "b44d7af4-e179-4562-8b86-dfb45e027ce2",
   "metadata": {},
   "outputs": [
    {
     "name": "stderr",
     "output_type": "stream",
     "text": [
      "[nltk_data] Downloading package punkt to\n",
      "[nltk_data]     C:\\Users\\aadar\\AppData\\Roaming\\nltk_data...\n",
      "[nltk_data]   Package punkt is already up-to-date!\n"
     ]
    },
    {
     "name": "stdout",
     "output_type": "stream",
     "text": [
      "Chatbot: Hello! Type 'exit' to stop.\n"
     ]
    },
    {
     "name": "stdin",
     "output_type": "stream",
     "text": [
      "You:  hello\n"
     ]
    },
    {
     "name": "stdout",
     "output_type": "stream",
     "text": [
      "Chatbot: Hello! How can I help?\n"
     ]
    },
    {
     "name": "stdin",
     "output_type": "stream",
     "text": [
      "You:  what is AI\n"
     ]
    },
    {
     "name": "stdout",
     "output_type": "stream",
     "text": [
      "Chatbot: Blockchain is a decentralized ledger system!\n"
     ]
    },
    {
     "name": "stdin",
     "output_type": "stream",
     "text": [
      "You:  who is elon musk\n"
     ]
    },
    {
     "name": "stdout",
     "output_type": "stream",
     "text": [
      "Chatbot: Blockchain is a decentralized ledger system!\n"
     ]
    }
   ],
   "source": [
    "import nltk\n",
    "import spacy\n",
    "import wikipediaapi\n",
    "import numpy as np\n",
    "import json\n",
    "from nltk.tokenize import word_tokenize\n",
    "from sklearn.feature_extraction.text import TfidfVectorizer\n",
    "from sklearn.metrics.pairwise import cosine_similarity\n",
    "\n",
    "# Load NLP models\n",
    "nlp = spacy.load(\"en_core_web_sm\")\n",
    "nltk.download('punkt')\n",
    "\n",
    "# Load JSON data\n",
    "with open(\"intents.json\", \"r\") as file:\n",
    "    data = json.load(file)\n",
    "\n",
    "# Prepare dataset from JSON\n",
    "patterns = []\n",
    "responses = []\n",
    "tags = []\n",
    "tag_map = {}\n",
    "\n",
    "for intent in data[\"intents\"]:\n",
    "    tag = intent[\"tag\"]\n",
    "    tags.append(tag)\n",
    "    tag_map[tag] = intent[\"responses\"]\n",
    "    for pattern in intent[\"patterns\"]:\n",
    "        patterns.append(pattern)\n",
    "        responses.append(tag)\n",
    "\n",
    "# Convert text data into numerical features\n",
    "vectorizer = TfidfVectorizer()\n",
    "X = vectorizer.fit_transform(patterns)\n",
    "\n",
    "def get_wikipedia_summary(query):\n",
    "    try:\n",
    "        wiki = wikipediaapi.Wikipedia(user_agent=\"MyPythonChatbot/1.0\", language=\"en\")\n",
    "        page = wiki.page(query)\n",
    "        if page.exists():\n",
    "            return page.summary[:500]  # Limit to 500 characters\n",
    "        return \"I'm sorry, I couldn't find information on that topic.\"\n",
    "    except Exception as e:\n",
    "        return f\"Error fetching data: {str(e)}\"\n",
    "\n",
    "def chatbot_response(user_input):\n",
    "    user_input = user_input.lower()\n",
    "    doc = nlp(user_input)\n",
    "    \n",
    "    # Extract Named Entities (NER)\n",
    "    entities = [ent.text for ent in doc.ents]\n",
    "    \n",
    "    # Predict intent using cosine similarity\n",
    "    user_vector = vectorizer.transform([user_input])\n",
    "    similarities = cosine_similarity(user_vector, X).flatten()\n",
    "    best_match_idx = np.argmax(similarities)\n",
    "    \n",
    "    if similarities[best_match_idx] > 0.3:  # Threshold for similarity\n",
    "        predicted_tag = responses[best_match_idx]\n",
    "        return np.random.choice(tag_map[predicted_tag])\n",
    "    \n",
    "    # If no close match, fetch Wikipedia summary\n",
    "    if entities:\n",
    "        return get_wikipedia_summary(entities[0])\n",
    "    \n",
    "    return \"I'm sorry, I didn't understand that. Can you rephrase?\"\n",
    "\n",
    "# Run the chatbot in Jupyter Notebook\n",
    "def chat():\n",
    "    print(\"Chatbot: Hello! Type 'exit' to stop.\")\n",
    "    while True:\n",
    "        user_input = input(\"You: \")\n",
    "        if user_input.lower() == \"exit\":\n",
    "            print(\"Chatbot: Goodbye!\")\n",
    "            break\n",
    "        print(\"Chatbot:\", chatbot_response(user_input))\n",
    "\n",
    "# Call chat function to start\n",
    "chat()\n"
   ]
  },
  {
   "cell_type": "code",
   "execution_count": null,
   "id": "28faeda7-af3b-45d2-86db-18268e5d4739",
   "metadata": {},
   "outputs": [],
   "source": []
  }
 ],
 "metadata": {
  "kernelspec": {
   "display_name": "Python [conda env:base] *",
   "language": "python",
   "name": "conda-base-py"
  },
  "language_info": {
   "codemirror_mode": {
    "name": "ipython",
    "version": 3
   },
   "file_extension": ".py",
   "mimetype": "text/x-python",
   "name": "python",
   "nbconvert_exporter": "python",
   "pygments_lexer": "ipython3",
   "version": "3.12.3"
  }
 },
 "nbformat": 4,
 "nbformat_minor": 5
}
